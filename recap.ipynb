{
 "cells": [
  {
   "cell_type": "markdown",
   "metadata": {},
   "source": [
    "Recode of my Springboard capstone, attempting and comparing different regression techniques."
   ]
  },
  {
   "cell_type": "code",
   "execution_count": 1,
   "metadata": {},
   "outputs": [],
   "source": [
    "import pandas as pd\n",
    "import numpy as np\n",
    "import matplotlib.pyplot as plt\n",
    "import seaborn as sns\n",
    "\n",
    "sns.set(style='darkgrid')\n",
    "%matplotlib inline"
   ]
  },
  {
   "cell_type": "code",
   "execution_count": 2,
   "metadata": {},
   "outputs": [],
   "source": [
    "df=pd.read_csv(\"../dc-residential-properties/DC2R.csv\",index_col=0)"
   ]
  },
  {
   "cell_type": "code",
   "execution_count": 3,
   "metadata": {},
   "outputs": [
    {
     "name": "stdout",
     "output_type": "stream",
     "text": [
      "              BATHRM      NUM_UNITS          ROOMS          BEDRM  \\\n",
      "count  106696.000000  106696.000000  106696.000000  106696.000000   \n",
      "mean        2.033103       1.198039       7.382329       3.368514   \n",
      "std         1.062017       0.596924       2.295587       1.100649   \n",
      "min         0.000000       0.000000       0.000000       0.000000   \n",
      "25%         1.000000       1.000000       6.000000       3.000000   \n",
      "50%         2.000000       1.000000       7.000000       3.000000   \n",
      "75%         3.000000       1.000000       8.000000       4.000000   \n",
      "max        14.000000       6.000000      48.000000      24.000000   \n",
      "\n",
      "                 AYB        STORIES         PRICE            GBA  \\\n",
      "count  106455.000000  106652.000000  5.790000e+04  106696.000000   \n",
      "mean     1933.888413       2.091793  5.799119e+05    1714.539889   \n",
      "std        28.307306       2.933323  6.076454e+05     880.677860   \n",
      "min      1754.000000       0.000000  1.000000e+00       0.000000   \n",
      "25%      1914.000000       2.000000  2.400000e+05    1190.000000   \n",
      "50%      1930.000000       2.000000  4.400000e+05    1480.000000   \n",
      "75%      1947.000000       2.000000  7.500000e+05    1966.000000   \n",
      "max      2019.000000     826.000000  2.510000e+07   45384.000000   \n",
      "\n",
      "            KITCHENS     FIREPLACES       LANDAREA  \n",
      "count  106695.000000  106696.000000  106696.000000  \n",
      "mean        1.219251       0.621551    3416.584089  \n",
      "std         0.621170       0.895054    5939.778843  \n",
      "min         0.000000       0.000000       0.000000  \n",
      "25%         1.000000       0.000000    1600.000000  \n",
      "50%         1.000000       0.000000    2365.000000  \n",
      "75%         1.000000       1.000000    4200.000000  \n",
      "max        44.000000      13.000000  942632.000000  \n"
     ]
    }
   ],
   "source": [
    "#Some Basic EDA:\n",
    "print(df.describe())"
   ]
  },
  {
   "cell_type": "code",
   "execution_count": 6,
   "metadata": {},
   "outputs": [
    {
     "data": {
      "text/plain": [
       "<matplotlib.axes._subplots.AxesSubplot at 0x2b53ad3ae10>"
      ]
     },
     "execution_count": 6,
     "metadata": {},
     "output_type": "execute_result"
    },
    {
     "data": {
      "image/png": "[encoded data removed]",
      "text/plain": [
       "<Figure size 432x288 with 1 Axes>"
      ]
     },
     "metadata": {
      "needs_background": "light"
     },
     "output_type": "display_data"
    }
   ],
   "source": [
    "#Cleaning out some building types that are incredibly rare.\n",
    "df['STRUCT']=df['STRUCT'].astype(str)\n",
    "df= df[~df.STRUCT.str.contains(\"nan\")]\n",
    "df= df[~df.STRUCT.str.contains(\"Default\")]\n",
    "df= df[~df.STRUCT.str.contains(\"Vacant Land\")]\n",
    "df= df[~df.STRUCT.str.contains(\"Town End\")]\n",
    "df= df[~df.STRUCT.str.contains(\"Town Inside\")]\n",
    "\n",
    "\n",
    "#Visualize our distribution of building structures:\n",
    "df['STRUCT'].value_counts().plot(kind='bar',linewidth=2,colormap='Pastel1') "
   ]
  },
  {
   "cell_type": "code",
   "execution_count": 9,
   "metadata": {},
   "outputs": [
    {
     "name": "stdout",
     "output_type": "stream",
     "text": [
      "(57507, 17)\n",
      "   BATHRM           HEAT AC  NUM_UNITS  ROOMS  BEDRM     AYB  STORIES  \\\n",
      "0       4      Warm Cool  Y          2      8      4  1910.0      3.0   \n",
      "2       3  Hot Water Rad  Y          2      9      5  1910.0      3.0   \n",
      "3       3  Hot Water Rad  Y          2      8      5  1900.0      3.0   \n",
      "5       3  Hot Water Rad  Y          1     10      5  1913.0      4.0   \n",
      "7       3  Hot Water Rad  Y          2      8      4  1906.0      3.0   \n",
      "\n",
      "       PRICE   GBA      STRUCT        ROOF  KITCHENS  FIREPLACES  LANDAREA  \\\n",
      "0  1095000.0  2522  Row Inside  Metal- Sms       2.0           5      1680   \n",
      "2  2100000.0  2522  Row Inside    Built Up       2.0           4      1680   \n",
      "3  1602000.0  2484  Row Inside    Built Up       2.0           3      1680   \n",
      "5  1950000.0  5344  Row Inside    Built Up       1.0           4      2196   \n",
      "7  1050000.0  2401  Row Inside  Metal- Sms       2.0           1      1627   \n",
      "\n",
      "  ASSESSMENT_NBHD        PPSQ  \n",
      "0      Old City 2  434.179223  \n",
      "2      Old City 2  832.672482  \n",
      "3      Old City 2  644.927536  \n",
      "5      Old City 2  364.895210  \n",
      "7      Old City 2  437.317784  \n"
     ]
    }
   ],
   "source": [
    "#Preprocessing data, creating new column to show price per square foot.\n",
    "import sklearn.preprocessing as prep\n",
    "\n",
    "df=df.dropna()\n",
    "df['PPSQ']=df['PRICE']/df['GBA']\n",
    "\n",
    "X=pd.get_dummies(df[['AYB','FIREPLACES','STORIES','NUM_UNITS']])\n",
    "y= df['PPSQ']\n",
    "\n",
    "#Seeing what our data looks like now:\n",
    "print(df.shape)\n",
    "print(df.head())"
   ]
  },
  {
   "cell_type": "markdown",
   "metadata": {},
   "source": [
    "## Predicting Price per Square Foot"
   ]
  },
  {
   "cell_type": "code",
   "execution_count": 11,
   "metadata": {},
   "outputs": [
    {
     "name": "stdout",
     "output_type": "stream",
     "text": [
      "Test set RMSE of dtr: 208.05\n",
      "327.9176448356829\n"
     ]
    }
   ],
   "source": [
    "from sklearn.tree import DecisionTreeRegressor as DTR\n",
    "from sklearn.model_selection import train_test_split\n",
    "from sklearn.metrics import mean_squared_error as MSE\n",
    "\n",
    "dtr=DTR(random_state=0)\n",
    "X_train, X_test, y_train, y_test= train_test_split(X, y,test_size=0.3)\n",
    "dtr.fit(X_train, y_train)\n",
    "y_pred = dtr.predict(X_test)\n",
    "mse_dtr = MSE(y_test, y_pred)\n",
    "\n",
    "# What is the RMSE of our model?\n",
    "rmse_dtr = mse_dtr**(1/2)\n",
    "print(\"Test set RMSE of dtr: {:.2f}\".format(rmse_dtr))\n",
    "print(df['PPSQ'].mean())"
   ]
  },
  {
   "cell_type": "code",
   "execution_count": 7,
   "metadata": {},
   "outputs": [
    {
     "name": "stdout",
     "output_type": "stream",
     "text": [
      "            importance\n",
      "AYB           0.477996\n",
      "FIREPLACES    0.299926\n",
      "STORIES       0.143689\n",
      "NUM_UNITS     0.078389\n"
     ]
    }
   ],
   "source": [
    "#What were the important features of our regressor?\n",
    "#IMPORTANT: one-hot encoding creates dummy variables for categorical variables.\n",
    "#It's therefore not amenable to ranking feature importances. It's still useful to view some, though.\n",
    "feature_importances = pd.DataFrame(dtr.feature_importances_, index = X_train.columns, columns=['importance']).sort_values('importance',ascending=False)\n",
    "print(feature_importances)\n",
    "#It looks like neighborhood has a big impact on price."
   ]
  },
  {
   "cell_type": "markdown",
   "metadata": {},
   "source": [
    "Now, let's measure the effect of different features using logistic regression."
   ]
  },
  {
   "cell_type": "code",
   "execution_count": 36,
   "metadata": {},
   "outputs": [
    {
     "ename": "ValueError",
     "evalue": "endog must be in the unit interval.",
     "output_type": "error",
     "traceback": [
      "\u001b[1;31m---------------------------------------------------------------------------\u001b[0m",
      "\u001b[1;31mValueError\u001b[0m                                Traceback (most recent call last)",
      "\u001b[1;32m<ipython-input-36-7b4de574d9cd>\u001b[0m in \u001b[0;36m<module>\u001b[1;34m\u001b[0m\n\u001b[0;32m      4\u001b[0m \u001b[1;31m# Index([gre, gpa, prestige_2, prestige_3, prestige_4], dtype=object)\u001b[0m\u001b[1;33m\u001b[0m\u001b[1;33m\u001b[0m\u001b[1;33m\u001b[0m\u001b[0m\n\u001b[0;32m      5\u001b[0m \u001b[0mstories\u001b[0m\u001b[1;33m=\u001b[0m\u001b[0mpd\u001b[0m\u001b[1;33m.\u001b[0m\u001b[0mget_dummies\u001b[0m\u001b[1;33m(\u001b[0m\u001b[0mdf\u001b[0m\u001b[1;33m[\u001b[0m\u001b[1;34m'STORIES'\u001b[0m\u001b[1;33m]\u001b[0m\u001b[1;33m)\u001b[0m\u001b[1;33m\u001b[0m\u001b[1;33m\u001b[0m\u001b[0m\n\u001b[1;32m----> 6\u001b[1;33m \u001b[0mlogit\u001b[0m \u001b[1;33m=\u001b[0m \u001b[0msm\u001b[0m\u001b[1;33m.\u001b[0m\u001b[0mLogit\u001b[0m\u001b[1;33m(\u001b[0m\u001b[0mdf\u001b[0m\u001b[1;33m[\u001b[0m\u001b[1;34m'PRICE'\u001b[0m\u001b[1;33m]\u001b[0m\u001b[1;33m,\u001b[0m\u001b[0mheat\u001b[0m\u001b[1;33m)\u001b[0m\u001b[1;33m\u001b[0m\u001b[1;33m\u001b[0m\u001b[0m\n\u001b[0m\u001b[0;32m      7\u001b[0m \u001b[1;33m\u001b[0m\u001b[0m\n\u001b[0;32m      8\u001b[0m \u001b[1;31m# fit the model\u001b[0m\u001b[1;33m\u001b[0m\u001b[1;33m\u001b[0m\u001b[1;33m\u001b[0m\u001b[0m\n",
      "\u001b[1;32m~\\Anaconda3\\lib\\site-packages\\statsmodels\\discrete\\discrete_model.py\u001b[0m in \u001b[0;36m__init__\u001b[1;34m(self, endog, exog, **kwargs)\u001b[0m\n\u001b[0;32m    419\u001b[0m         if (not issubclass(self.__class__, MultinomialModel) and\n\u001b[0;32m    420\u001b[0m                 not np.all((self.endog >= 0) & (self.endog <= 1))):\n\u001b[1;32m--> 421\u001b[1;33m             \u001b[1;32mraise\u001b[0m \u001b[0mValueError\u001b[0m\u001b[1;33m(\u001b[0m\u001b[1;34m\"endog must be in the unit interval.\"\u001b[0m\u001b[1;33m)\u001b[0m\u001b[1;33m\u001b[0m\u001b[1;33m\u001b[0m\u001b[0m\n\u001b[0m\u001b[0;32m    422\u001b[0m \u001b[1;33m\u001b[0m\u001b[0m\n\u001b[0;32m    423\u001b[0m \u001b[1;33m\u001b[0m\u001b[0m\n",
      "\u001b[1;31mValueError\u001b[0m: endog must be in the unit interval."
     ]
    }
   ],
   "source": [
    "import statsmodels.api as sm\n",
    "import pylab as pl\n",
    "heat=pd.get_dummies(df['HEAT'])\n",
    "# Index([gre, gpa, prestige_2, prestige_3, prestige_4], dtype=object)\n",
    "stories=pd.get_dummies(df['STORIES'])\n",
    "logit = sm.Logit(df['PRICE'],heat)\n",
    "\n",
    "# fit the model\n",
    "result = logit.fit()"
   ]
  },
  {
   "cell_type": "code",
   "execution_count": 37,
   "metadata": {},
   "outputs": [
    {
     "name": "stdout",
     "output_type": "stream",
     "text": [
      "Test set RMSE of dtr: 236.65\n",
      "327.9176448356829\n"
     ]
    }
   ],
   "source": [
    "from sklearn.linear_model import LinearRegression\n",
    "lreg = LinearRegression()\n",
    "\n",
    "X_train, X_test, y_train, y_test= train_test_split(X, y,test_size=0.3, random_state=1)\n",
    "lreg.fit(X_train,y_train)\n",
    "y_pred = lreg.predict(X_test)\n",
    "mse_dtr = MSE(y_test, y_pred)\n",
    "\n",
    "# What is the RMSE of our model?\n",
    "rmse_dtr = mse_dtr**(1/2)\n",
    "print(\"Test set RMSE of dtr: {:.2f}\".format(rmse_dtr))\n",
    "print(df['PPSQ'].mean())"
   ]
  },
  {
   "cell_type": "markdown",
   "metadata": {},
   "source": [
    "Whether using linear regression or Decision Trees, we have some nasty large RMSEs. To get a better predictor of price, let's try the Ridge and Lasso techniques."
   ]
  },
  {
   "cell_type": "code",
   "execution_count": 35,
   "metadata": {},
   "outputs": [
    {
     "name": "stdout",
     "output_type": "stream",
     "text": [
      "linear regression train score: 0.1165482996766597\n",
      "linear regression test score: 0.07958425044746043\n",
      "ridge regression train score low alpha: 0.11654829967664926\n",
      "ridge regression test score low alpha: 0.07958425010739478\n",
      "ridge regression train score high alpha: 0.11654725647939257\n",
      "ridge regression test score high alpha: 0.07958002937309672\n"
     ]
    },
    {
     "data": {
      "image/png": "[encoded data removed]",
      "text/plain": [
       "<Figure size 432x288 with 1 Axes>"
      ]
     },
     "metadata": {
      "needs_background": "light"
     },
     "output_type": "display_data"
    },
    {
     "name": "stdout",
     "output_type": "stream",
     "text": [
      "Test set RMSE of linear regression: 255.91\n",
      "327.9176448356829\n"
     ]
    }
   ],
   "source": [
    "lr = LinearRegression()\n",
    "lr.fit(X_train, y_train)\n",
    "\n",
    "rr = Ridge(alpha=0.01) # higher the alpha value, more restriction on the coefficients; low alpha > more generalization, coefficients are barely\n",
    "# restricted and in this case linear and ridge regression resembles\n",
    "rr.fit(X_train, y_train)\n",
    "ypredlow=rr.predict(X_test)\n",
    "rr100 = Ridge(alpha=100) #  comparison with alpha value\n",
    "rr100.fit(X_train, y_train)\n",
    "\n",
    "train_score=lr.score(X_train, y_train)\n",
    "test_score=lr.score(X_test, y_test)\n",
    "\n",
    "Ridge_train_score = rr.score(X_train,y_train)\n",
    "Ridge_test_score = rr.score(X_test, y_test)\n",
    "\n",
    "Ridge_train_score100 = rr100.score(X_train,y_train)\n",
    "Ridge_test_score100 = rr100.score(X_test, y_test)\n",
    "\n",
    "print(\"linear regression train score:\", train_score)\n",
    "print(\"linear regression test score:\", test_score)\n",
    "print(\"ridge regression train score low alpha:\", Ridge_train_score)\n",
    "print(\"ridge regression test score low alpha:\", Ridge_test_score)\n",
    "print(\"ridge regression train score high alpha:\", Ridge_train_score100)\n",
    "print(\"ridge regression test score high alpha:\", Ridge_test_score100)\n",
    "\n",
    "plt.plot(rr.coef_,alpha=0.7,linestyle='none',marker='*',markersize=5,color='red',label=r'Ridge; $\\alpha = 0.01$',zorder=7) # zorder for ordering the markers\n",
    "\n",
    "plt.plot(rr100.coef_,alpha=0.5,linestyle='none',marker='d',markersize=6,color='blue',label=r'Ridge; $\\alpha = 100$') # alpha here is for transparency\n",
    "\n",
    "plt.plot(lr.coef_,alpha=0.4,linestyle='none',marker='o',markersize=7,color='green',label='Linear Regression')\n",
    "\n",
    "plt.xlabel('Coefficient Index',fontsize=16)\n",
    "plt.ylabel('Coefficient Magnitude',fontsize=16)\n",
    "plt.legend(fontsize=13,loc=4)\n",
    "plt.show()\n",
    "\n",
    "mse_dtr = MSE(y_test, y_pred)\n",
    "\n",
    "# What is the RMSE of our model?\n",
    "rmse_dtr = mse_dtr**(1/2)\n",
    "print(\"Test set RMSE of linear regression: {:.2f}\".format(rmse_dtr))\n",
    "print(df['PPSQ'].mean())"
   ]
  },
  {
   "cell_type": "code",
   "execution_count": 38,
   "metadata": {},
   "outputs": [
    {
     "name": "stdout",
     "output_type": "stream",
     "text": [
      "training score: 0.11646859280806376\n",
      "test score:  0.08024078842711835\n",
      "number of features used:  4\n",
      "training score for alpha=0.01: 0.11654829959695301\n",
      "test score for alpha =0.01:  0.07958498618727672\n",
      "number of features used: for alpha =0.01: 4\n",
      "training score for alpha=0.0001: 0.11654829967586244\n",
      "test score for alpha =0.0001:  0.07958432402551907\n",
      "number of features used: for alpha =0.0001: 4\n",
      "LR training score: 0.1165482996766597\n",
      "LR test score:  0.07958425044746043\n"
     ]
    },
    {
     "data": {
      "image/png": "[encoded data removed]",
      "text/plain": [
       "<Figure size 432x288 with 2 Axes>"
      ]
     },
     "metadata": {
      "needs_background": "light"
     },
     "output_type": "display_data"
    },
    {
     "name": "stdout",
     "output_type": "stream",
     "text": [
      "Test set RMSE of dtr: 255.91\n",
      "327.9176448356829\n"
     ]
    }
   ],
   "source": [
    "import math \n",
    "\n",
    "# difference of lasso and ridge regression is that some of the coefficients can be zero i.e. some of the features are \n",
    "# completely neglected\n",
    "\n",
    "from sklearn.linear_model import Lasso\n",
    "from sklearn.linear_model import LinearRegression\n",
    "from sklearn.datasets import load_breast_cancer\n",
    "\n",
    "X_train,X_test,y_train,y_test=train_test_split(X,y, test_size=0.3, random_state=31)\n",
    "\n",
    "lasso = Lasso()\n",
    "lasso.fit(X_train,y_train)\n",
    "train_score=lasso.score(X_train,y_train)\n",
    "test_score=lasso.score(X_test,y_test)\n",
    "coeff_used = np.sum(lasso.coef_!=0)\n",
    "\n",
    "print(\"training score:\", train_score) \n",
    "print(\"test score: \", test_score)\n",
    "print(\"number of features used: \", coeff_used)\n",
    "\n",
    "lasso001 = Lasso(alpha=0.001, max_iter=10e5)\n",
    "lasso001.fit(X_train,y_train)\n",
    "\n",
    "train_score001=lasso001.score(X_train,y_train)\n",
    "test_score001=lasso001.score(X_test,y_test)\n",
    "coeff_used001 = np.sum(lasso001.coef_!=0)\n",
    "\n",
    "print(\"training score for alpha=0.01:\", train_score001) \n",
    "print(\"test score for alpha =0.01: \", test_score001)\n",
    "print(\"number of features used: for alpha =0.01:\", coeff_used001)\n",
    "\n",
    "lasso00001 = Lasso(alpha=0.0001, max_iter=10e5)\n",
    "lasso00001.fit(X_train,y_train)\n",
    "\n",
    "train_score00001=lasso00001.score(X_train,y_train)\n",
    "test_score00001=lasso00001.score(X_test,y_test)\n",
    "coeff_used00001 = np.sum(lasso00001.coef_!=0)\n",
    "\n",
    "print(\"training score for alpha=0.0001:\", train_score00001)\n",
    "print(\"test score for alpha =0.0001: \", test_score00001)\n",
    "print(\"number of features used: for alpha =0.0001:\", coeff_used00001)\n",
    "\n",
    "lr = LinearRegression()\n",
    "lr.fit(X_train,y_train)\n",
    "lr_train_score=lr.score(X_train,y_train)\n",
    "lr_test_score=lr.score(X_test,y_test)\n",
    "\n",
    "print(\"LR training score:\", lr_train_score)\n",
    "print(\"LR test score: \", lr_test_score)\n",
    "\n",
    "plt.subplot(1,2,1)\n",
    "plt.plot(lasso.coef_,alpha=0.7,linestyle='none',marker='*',markersize=5,color='red',label=r'Lasso; $\\alpha = 1$',zorder=7) # alpha here is for transparency\n",
    "plt.plot(lasso001.coef_,alpha=0.5,linestyle='none',marker='d',markersize=6,color='blue',label=r'Lasso; $\\alpha = 0.01$') # alpha here is for transparency\n",
    "\n",
    "plt.xlabel('Coefficient Index',fontsize=16)\n",
    "plt.ylabel('Coefficient Magnitude',fontsize=16)\n",
    "plt.legend(fontsize=13,loc=4)\n",
    "\n",
    "plt.subplot(1,2,2)\n",
    "\n",
    "plt.plot(lasso.coef_,alpha=0.7,linestyle='none',marker='*',markersize=5,color='red',label=r'Lasso; $\\alpha = 1$',zorder=7) # alpha here is for transparency\n",
    "plt.plot(lasso001.coef_,alpha=0.5,linestyle='none',marker='d',markersize=6,color='blue',label=r'Lasso; $\\alpha = 0.01$') # alpha here is for transparency\n",
    "plt.plot(lasso00001.coef_,alpha=0.8,linestyle='none',marker='v',markersize=6,color='black',label=r'Lasso; $\\alpha = 0.00001$') # alpha here is for transparency\n",
    "plt.plot(lr.coef_,alpha=0.7,linestyle='none',marker='o',markersize=5,color='green',label='Linear Regression',zorder=2)\n",
    "\n",
    "plt.xlabel('Coefficient Index',fontsize=16)\n",
    "plt.ylabel('Coefficient Magnitude',fontsize=16)\n",
    "plt.legend(fontsize=13,loc=4)\n",
    "plt.tight_layout()\n",
    "plt.show()\n",
    "\n",
    "mse_dtr = MSE(y_test, y_pred)\n",
    "\n",
    "# What is the RMSE of our model?\n",
    "rmse_dtr = mse_dtr**(1/2)\n",
    "print(\"Test set RMSE of dtr: {:.2f}\".format(rmse_dtr))\n",
    "print(df['PPSQ'].mean())"
   ]
  },
  {
   "cell_type": "code",
   "execution_count": null,
   "metadata": {},
   "outputs": [],
   "source": []
  }
 ],
 "metadata": {
  "kernelspec": {
   "display_name": "Python 3",
   "language": "python",
   "name": "python3"
  },
  "language_info": {
   "codemirror_mode": {
    "name": "ipython",
    "version": 3
   },
   "file_extension": ".py",
   "mimetype": "text/x-python",
   "name": "python",
   "nbconvert_exporter": "python",
   "pygments_lexer": "ipython3",
   "version": "3.6.8"
  }
 },
 "nbformat": 4,
 "nbformat_minor": 2
}
